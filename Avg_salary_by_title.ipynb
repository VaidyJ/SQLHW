{
 "cells": [
  {
   "cell_type": "markdown",
   "metadata": {},
   "source": [
    "# Modeling  \n",
    "    Analyze the 6 csv files\n",
    "    Identity the master tables like Employee, Department\n",
    "    Identify bridge tables like Dept Manager, Dept Employee, Salaries & Titles\n",
    "    Identity primary keys for master tables\n",
    "    identify relationsip between bridge table and 1 or more master tables\n",
    "    Create scripts for master tables first followed by bridge tables\n",
    "    Save the data definition language (DDL) scripts\n",
    "    Execute and create tables\n",
    "\n",
    "# Loading data\n",
    "    Load each table using csv file\n",
    "\n",
    "# Writing queries\n",
    "   Create the queries based on 1 or more tables using joins, grooup by, order by wherever applicable"
   ]
  },
  {
   "cell_type": "code",
   "execution_count": 1,
   "metadata": {},
   "outputs": [],
   "source": [
    "import pandas as pd\n",
    "import matplotlib.pyplot as plt\n",
    "from sqlalchemy import create_engine\n",
    "#engine = create_engine('postgresql://localhost:63576/SQLHW')\n",
    "engine = create_engine('postgresql://postgres:Password@0@localhost/SQLHW')\n",
    "connection = engine.connect()\n"
   ]
  },
  {
   "cell_type": "code",
   "execution_count": 11,
   "metadata": {},
   "outputs": [
    {
     "name": "stdout",
     "output_type": "stream",
     "text": [
      "<sqlalchemy.engine.base.Connection object at 0x000001B17A57FB00>\n"
     ]
    },
    {
     "data": {
      "text/html": [
       "<div>\n",
       "<style scoped>\n",
       "    .dataframe tbody tr th:only-of-type {\n",
       "        vertical-align: middle;\n",
       "    }\n",
       "\n",
       "    .dataframe tbody tr th {\n",
       "        vertical-align: top;\n",
       "    }\n",
       "\n",
       "    .dataframe thead th {\n",
       "        text-align: right;\n",
       "    }\n",
       "</style>\n",
       "<table border=\"1\" class=\"dataframe\">\n",
       "  <thead>\n",
       "    <tr style=\"text-align: right;\">\n",
       "      <th></th>\n",
       "      <th>title</th>\n",
       "      <th>avg_salary</th>\n",
       "    </tr>\n",
       "  </thead>\n",
       "  <tbody>\n",
       "    <tr>\n",
       "      <th>0</th>\n",
       "      <td>Senior Engineer</td>\n",
       "      <td>48.506800</td>\n",
       "    </tr>\n",
       "    <tr>\n",
       "      <th>1</th>\n",
       "      <td>Engineer</td>\n",
       "      <td>48.535337</td>\n",
       "    </tr>\n",
       "    <tr>\n",
       "      <th>2</th>\n",
       "      <td>Assistant Engineer</td>\n",
       "      <td>48.564434</td>\n",
       "    </tr>\n",
       "    <tr>\n",
       "      <th>3</th>\n",
       "      <td>Technique Leader</td>\n",
       "      <td>48.582426</td>\n",
       "    </tr>\n",
       "    <tr>\n",
       "      <th>4</th>\n",
       "      <td>Manager</td>\n",
       "      <td>49.600556</td>\n",
       "    </tr>\n",
       "  </tbody>\n",
       "</table>\n",
       "</div>"
      ],
      "text/plain": [
       "                title  avg_salary\n",
       "0     Senior Engineer   48.506800\n",
       "1            Engineer   48.535337\n",
       "2  Assistant Engineer   48.564434\n",
       "3    Technique Leader   48.582426\n",
       "4             Manager   49.600556"
      ]
     },
     "execution_count": 11,
     "metadata": {},
     "output_type": "execute_result"
    }
   ],
   "source": [
    "print(connection)\n",
    "#data = pd.read_sql(\"SELECT title, avg(salary) as avg_salary FROM salaries s join titles t on s.emp_no=t.emp_no group by title\", connection)\n",
    "#data\n",
    "\n",
    "\n",
    "data = pd.read_sql(\"select title, avg(salary)/1000 as avg_salary From salaries s join titles t on s.emp_no=t.emp_no   \\\n",
    "join (select max(from_date) as from_date, emp_no from titles group by emp_no) emp_title on t.emp_no = \\\n",
    "emp_title.emp_no and t.from_date = emp_title.from_date  group by title order by avg_salary\", connection)\n",
    "data.head()"
   ]
  },
  {
   "cell_type": "code",
   "execution_count": 12,
   "metadata": {},
   "outputs": [],
   "source": [
    "#my_query = 'SELECT title, salary FROM salaries s join titles t on s.emp_no=t.emp_no'\n",
    "#results = connection.execute(my_query).fetchall()"
   ]
  },
  {
   "cell_type": "code",
   "execution_count": 13,
   "metadata": {},
   "outputs": [],
   "source": [
    "#print(len(results))"
   ]
  },
  {
   "cell_type": "code",
   "execution_count": 16,
   "metadata": {},
   "outputs": [
    {
     "data": {
      "text/plain": [
       "Text(0.5,0,'Title')"
      ]
     },
     "execution_count": 16,
     "metadata": {},
     "output_type": "execute_result"
    },
    {
     "data": {
      "image/png": "[encoded data removed]",
      "text/plain": [
       "<Figure size 432x288 with 1 Axes>"
      ]
     },
     "metadata": {
      "needs_background": "light"
     },
     "output_type": "display_data"
    }
   ],
   "source": [
    "plt.bar(data['title'],data['avg_salary'])\n",
    "plt.tick_params(axis='x', rotation=90)\n",
    "plt.title(\"Average salary by title\")\n",
    "plt.ylabel(\"Salary in $ 1,000\")\n",
    "plt.xlabel(\"Title\")"
   ]
  },
  {
   "cell_type": "code",
   "execution_count": null,
   "metadata": {},
   "outputs": [],
   "source": []
  },
  {
   "cell_type": "code",
   "execution_count": null,
   "metadata": {},
   "outputs": [],
   "source": []
  }
 ],
 "metadata": {
  "kernelspec": {
   "display_name": "Python 3",
   "language": "python",
   "name": "python3"
  },
  "language_info": {
   "codemirror_mode": {
    "name": "ipython",
    "version": 3
   },
   "file_extension": ".py",
   "mimetype": "text/x-python",
   "name": "python",
   "nbconvert_exporter": "python",
   "pygments_lexer": "ipython3",
   "version": "3.7.0"
  }
 },
 "nbformat": 4,
 "nbformat_minor": 2
}
